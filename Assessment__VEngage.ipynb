{
 "cells": [
  {
   "cell_type": "code",
   "execution_count": 1,
   "id": "fedf82ff",
   "metadata": {},
   "outputs": [
    {
     "name": "stdout",
     "output_type": "stream",
     "text": [
      "Requirement already satisfied: pymysql in c:\\anaconda\\lib\\site-packages (1.1.0)\n"
     ]
    }
   ],
   "source": [
    "!pip install pymysql"
   ]
  },
  {
   "cell_type": "code",
   "execution_count": 2,
   "id": "3fe9489c",
   "metadata": {},
   "outputs": [
    {
     "name": "stdout",
     "output_type": "stream",
     "text": [
      "Requirement already satisfied: mysql-connector-python in c:\\anaconda\\lib\\site-packages (8.2.0)\n",
      "Requirement already satisfied: protobuf<=4.21.12,>=4.21.1 in c:\\anaconda\\lib\\site-packages (from mysql-connector-python) (4.21.12)\n"
     ]
    }
   ],
   "source": [
    "!pip install mysql-connector-python"
   ]
  },
  {
   "cell_type": "code",
   "execution_count": 3,
   "id": "d2188c0b",
   "metadata": {},
   "outputs": [],
   "source": [
    "import sqlalchemy\n",
    "import pymysql\n",
    "from sqlalchemy import create_engine\n",
    "from sqlalchemy import text\n",
    "from sqlalchemy import create_engine, text \n",
    "import mysql.connector as sql"
   ]
  },
  {
   "cell_type": "code",
   "execution_count": 4,
   "id": "04397b14",
   "metadata": {},
   "outputs": [],
   "source": [
    "mydb = sql.connect(\n",
    "  host=\"localhost\",\n",
    "  user=\"root\",\n",
    "  password=\"Risvana123\",\n",
    "  database=\"phonebook_records\"\n",
    "    \n",
    "  \n",
    ")\n",
    "\n",
    "mycursor = mydb.cursor(buffered=True)"
   ]
  },
  {
   "cell_type": "code",
   "execution_count": 6,
   "id": "e15db3fc",
   "metadata": {},
   "outputs": [],
   "source": [
    "mycursor.execute(\"CREATE DATABASE phonebook_records\")"
   ]
  },
  {
   "cell_type": "code",
   "execution_count": 7,
   "id": "943ccab4",
   "metadata": {},
   "outputs": [],
   "source": [
    "create_table_query = \"\"\"\n",
    "CREATE TABLE phone_records (\n",
    "    Name VARCHAR(255),\n",
    "    email VARCHAR(255),\n",
    "    Phone_1 VARCHAR(15),\n",
    "    Phone_2 VARCHAR(15)\n",
    ")\n",
    "\"\"\"\n",
    "\n",
    "# Execute the query\n",
    "mycursor.execute(create_table_query)"
   ]
  },
  {
   "cell_type": "code",
   "execution_count": 8,
   "id": "4f47e3c7",
   "metadata": {},
   "outputs": [
    {
     "name": "stdout",
     "output_type": "stream",
     "text": [
      "{'Name': 'Jhon', 'Email': 'jhon@gmail.com', 'Phone 1': '1234567890', 'Phone 2': '9876543210'}\n",
      "{'Name': 'Doe', 'Email': 'doe@gmail.com', 'Phone 1': '1234567890', 'Phone 2': '9876543210'}\n",
      "{'Name': 'Rahu', 'Email': 'rahu@gmail.com', 'Phone 1': '1234567890', 'Phone 2': '9876543210'}\n",
      "{'Name': 'Rilvan', 'Email': 'rilvan@gmail.com', 'Phone 1': '1234567890', 'Phone 2': '9876543210'}\n",
      "{'Name': 'Rahamaththulla', 'Email': 'rahamaththulla@gmail.com', 'Phone 1': '1234567890', 'Phone 2': '9876543210'}\n",
      "{'Name': 'Risvana', 'Email': 'risvana@gmail.com', 'Phone 1': '1234567890', 'Phone 2': '9876543210'}\n",
      "{'Name': 'Ram', 'Email': 'ram@gmail.com', 'Phone 1': '1234567890', 'Phone 2': '9876543210'}\n",
      "{'Name': 'Ravi', 'Email': 'ravi@gmail.com', 'Phone 1': '1234567890', 'Phone 2': '9876543210'}\n",
      "{'Name': 'Ramprakash', 'Email': 'ramprakash@gmail.com', 'Phone 1': '1234567890', 'Phone 2': '9876543210'}\n",
      "{'Name': 'vinoth', 'Email': 'vinoth@gmail.com', 'Phone 1': '1234567890', 'Phone 2': '9876543210'}\n",
      "{'Name': 'keerthi', 'Email': 'keerthi@gmail.com', 'Phone 1': '1234567890', 'Phone 2': '9876543210'}\n"
     ]
    }
   ],
   "source": [
    "import csv\n",
    "\n",
    "def read_phone_book_from_csv(file_path):\n",
    "    phone_book = []\n",
    "    \n",
    "    with open(file_path, 'r') as csv_file:\n",
    "        csv_reader = csv.DictReader(csv_file)\n",
    "        \n",
    "        for row in csv_reader:\n",
    "            name = row['Name']\n",
    "            email = row['Email']\n",
    "            phone1 = row['Phone 1']\n",
    "            phone2 = row['Phone 2']\n",
    "            \n",
    "            record = {'Name': name, 'Email': email, 'Phone 1': phone1, 'Phone 2': phone2}\n",
    "            phone_book.append(record)\n",
    "    \n",
    "    return phone_book\n",
    "\n",
    "# Example usage\n",
    "file_path = r'G:\\phone_records.csv'\n",
    "phone_book_records = read_phone_book_from_csv(file_path)\n",
    "for i in (phone_book_records):\n",
    "    print(i)\n"
   ]
  },
  {
   "cell_type": "code",
   "execution_count": 9,
   "id": "dbc73a2e",
   "metadata": {},
   "outputs": [
    {
     "name": "stdout",
     "output_type": "stream",
     "text": [
      "Name: Jhon Email: jhon@gmail.com Phone_1 1234567890 Phone_2 9876543210\n",
      "\n",
      " Inserted successfully\n",
      "Name: Doe Email: doe@gmail.com Phone_1 1234567890 Phone_2 9876543210\n",
      "\n",
      " Inserted successfully\n",
      "Name: Rahu Email: rahu@gmail.com Phone_1 1234567890 Phone_2 9876543210\n",
      "\n",
      " Inserted successfully\n",
      "Name: Rilvan Email: rilvan@gmail.com Phone_1 1234567890 Phone_2 9876543210\n",
      "\n",
      " Inserted successfully\n",
      "Name: Rahamaththulla Email: rahamaththulla@gmail.com Phone_1 1234567890 Phone_2 9876543210\n",
      "\n",
      " Inserted successfully\n",
      "Name: Risvana Email: risvana@gmail.com Phone_1 1234567890 Phone_2 9876543210\n",
      "\n",
      " Inserted successfully\n",
      "Name: Ram Email: ram@gmail.com Phone_1 1234567890 Phone_2 9876543210\n",
      "\n",
      " Inserted successfully\n",
      "Name: Ravi Email: ravi@gmail.com Phone_1 1234567890 Phone_2 9876543210\n",
      "\n",
      " Inserted successfully\n",
      "Name: Ramprakash Email: ramprakash@gmail.com Phone_1 1234567890 Phone_2 9876543210\n",
      "\n",
      " Inserted successfully\n",
      "Name: vinoth Email: vinoth@gmail.com Phone_1 1234567890 Phone_2 9876543210\n",
      "\n",
      " Inserted successfully\n",
      "Name: keerthi Email: keerthi@gmail.com Phone_1 1234567890 Phone_2 9876543210\n",
      "\n",
      " Inserted successfully\n"
     ]
    }
   ],
   "source": [
    "for data in phone_book_records:\n",
    "            name=data[\"Name\"]\n",
    "            Email=data['Email']\n",
    "            Phone_1=data['Phone 1']\n",
    "            Phone_2=data['Phone 2']\n",
    "            print(\"Name:\",name,\"Email:\",Email,\"Phone_1\",Phone_1,\"Phone_2\",Phone_2)\n",
    "            insert_query = f\"\"\"\n",
    "INSERT INTO phone_records (Name, email, Phone_1, Phone_2)\n",
    "VALUES ('{name}', '{Email}', '{Phone_1}', '{Phone_2}')\n",
    "\"\"\"\n",
    "            mycursor.execute(insert_query)\n",
    "            mydb.commit()\n",
    "            print(\"\\n Inserted successfully\")"
   ]
  },
  {
   "cell_type": "code",
   "execution_count": 10,
   "id": "c2b4d026",
   "metadata": {},
   "outputs": [
    {
     "name": "stdout",
     "output_type": "stream",
     "text": [
      "2.1 - SELECT * FROM phone_records limit 10:\n",
      "[('Jhon', 'jhon@gmail.com', '1234567890', '9876543210'), ('Doe', 'doe@gmail.com', '1234567890', '9876543210'), ('Rahu', 'rahu@gmail.com', '1234567890', '9876543210'), ('Rilvan', 'rilvan@gmail.com', '1234567890', '9876543210'), ('Rahamaththulla', 'rahamaththulla@gmail.com', '1234567890', '9876543210'), ('Risvana', 'risvana@gmail.com', '1234567890', '9876543210'), ('Ram', 'ram@gmail.com', '1234567890', '9876543210'), ('Ravi', 'ravi@gmail.com', '1234567890', '9876543210'), ('Ramprakash', 'ramprakash@gmail.com', '1234567890', '9876543210'), ('vinoth', 'vinoth@gmail.com', '1234567890', '9876543210')]\n",
      "\n",
      "2.2 - SELECT * FROM phone_records WHERE name='Doe':\n",
      "[('Doe', 'doe@gmail.com', '1234567890', '9876543210')]\n",
      "\n",
      "2.3 - INSERT INTO phone_records: Record inserted successfully.\n",
      "2.3 - SELECT * FROM phone_records WHERE name='Test':\n",
      "[('Test', 'test@test.xtyz', '1234456', '1233233')]\n",
      "\n",
      "2.4 - DELETE FROM phone_records: Record deleted successfully.\n",
      "\n",
      "2.4 - SELECT * FROM phone_records WHERE name='Jhon':\n",
      "[]\n"
     ]
    }
   ],
   "source": [
    "select_all_query = \"SELECT * FROM phone_records LIMIT 10\"\n",
    "mycursor.execute(select_all_query)\n",
    "result_select_all = mycursor.fetchall()\n",
    "print(\"2.1 - SELECT * FROM phone_records limit 10:\")\n",
    "print(result_select_all)\n",
    "\n",
    "# 2.2 SELECT * FROM phone_records WHERE name='Doe'; (filters records where 'Doe' is found)\n",
    "select_doe_query = \"SELECT * FROM phone_records WHERE name='Doe'\"\n",
    "mycursor.execute(select_doe_query)\n",
    "result_select_doe = mycursor.fetchall()\n",
    "print(\"\\n2.2 - SELECT * FROM phone_records WHERE name='Doe':\")\n",
    "print(result_select_doe)\n",
    "\n",
    "# 2.3 INSERT INTO phone_records(name, email, phone_1, phone_2) VALUES('Test', 'test@test.xtyz', '1234456', '1233233')\n",
    "insert_query = \"\"\"\n",
    "INSERT INTO phone_records (Name, email, Phone_1, Phone_2)\n",
    "VALUES ('Test', 'test@test.xtyz', '1234456', '1233233')\n",
    "\"\"\"\n",
    "mycursor.execute(insert_query)\n",
    "mydb.commit()\n",
    "print(\"\\n2.3 - INSERT INTO phone_records: Record inserted successfully.\")\n",
    "select_test_query = \"SELECT * FROM phone_records WHERE name='Test'\"\n",
    "mycursor.execute(select_test_query)\n",
    "result_select_test = mycursor.fetchall()\n",
    "print(\"2.3 - SELECT * FROM phone_records WHERE name='Test':\")\n",
    "print(result_select_test)\n",
    "\n",
    "# 2.4 DELETE FROM phone_records WHERE name='John'; (deletes the record where name is 'John')\n",
    "delete_query = \"DELETE FROM phone_records WHERE name='Jhon'\"\n",
    "mycursor.execute(delete_query)\n",
    "mydb.commit()\n",
    "print(\"\\n2.4 - DELETE FROM phone_records: Record deleted successfully.\")\n",
    "select_check_query = \"SELECT * FROM phone_records WHERE name='Jhon'\"\n",
    "mycursor.execute(select_check_query)\n",
    "result_select_check = mycursor.fetchall()\n",
    "print(\"\\n2.4 - SELECT * FROM phone_records WHERE name='Jhon':\")\n",
    "print(result_select_check)\n",
    "\n"
   ]
  },
  {
   "cell_type": "code",
   "execution_count": null,
   "id": "478d4620",
   "metadata": {},
   "outputs": [],
   "source": []
  }
 ],
 "metadata": {
  "kernelspec": {
   "display_name": "Python 3 (ipykernel)",
   "language": "python",
   "name": "python3"
  },
  "language_info": {
   "codemirror_mode": {
    "name": "ipython",
    "version": 3
   },
   "file_extension": ".py",
   "mimetype": "text/x-python",
   "name": "python",
   "nbconvert_exporter": "python",
   "pygments_lexer": "ipython3",
   "version": "3.9.13"
  }
 },
 "nbformat": 4,
 "nbformat_minor": 5
}
